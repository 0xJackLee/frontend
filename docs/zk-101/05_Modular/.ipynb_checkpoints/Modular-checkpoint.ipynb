{
 "cells": [
  {
   "cell_type": "code",
   "execution_count": 1,
   "id": "eed4365e",
   "metadata": {},
   "outputs": [],
   "source": [
    "def mod(a, b):\n",
    "    remainder = a % b\n",
    "    if remainder < 0:\n",
    "        # 调整余数确保非负\n",
    "        remainder += abs(b)\n",
    "    return remainder\n"
   ]
  },
  {
   "cell_type": "code",
   "execution_count": 3,
   "id": "859d5dd7",
   "metadata": {},
   "outputs": [
    {
     "data": {
      "text/plain": [
       "3"
      ]
     },
     "execution_count": 3,
     "metadata": {},
     "output_type": "execute_result"
    }
   ],
   "source": []
  },
  {
   "cell_type": "code",
   "execution_count": null,
   "id": "7c3c56ba",
   "metadata": {},
   "outputs": [],
   "source": []
  }
 ],
 "metadata": {
  "kernelspec": {
   "display_name": "Python 3 (ipykernel)",
   "language": "python",
   "name": "python3"
  },
  "language_info": {
   "codemirror_mode": {
    "name": "ipython",
    "version": 3
   },
   "file_extension": ".py",
   "mimetype": "text/x-python",
   "name": "python",
   "nbconvert_exporter": "python",
   "pygments_lexer": "ipython3",
   "version": "3.7.7"
  }
 },
 "nbformat": 4,
 "nbformat_minor": 5
}
