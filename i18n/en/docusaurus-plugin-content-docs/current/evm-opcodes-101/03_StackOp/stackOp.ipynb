{
 "cells": [
  {
   "cell_type": "code",
   "execution_count": 71,
   "id": "2b96b12e",
   "metadata": {},
   "outputs": [],
   "source": [
    "PUSH0 = 0x5F\n",
    "PUSH1 = 0x60\n",
    "PUSH32 = 0x7F\n",
    "POP = 0x50\n",
    "\n",
    "class EVM:\n",
    "    def __init__(self, code):\n",
    "        self.code = code # 初始化字节码，bytes对象\n",
    "        self.pc = 0  # 初始化程序计数器为0\n",
    "        self.stack = [] # 堆栈初始为空\n",
    "\n",
    "    def next_instruction(self):\n",
    "        op = self.code[self.pc]  # 获取当前指令\n",
    "        self.pc += 1  # 递增\n",
    "        return op\n",
    "\n",
    "    def push(self, size):\n",
    "        data = self.code[self.pc:self.pc + size] # 按照size从code中获取数据\n",
    "        value = int.from_bytes(data, 'big') # 将bytes转换为int\n",
    "        self.stack.append(value) # 压入堆栈\n",
    "        self.pc += size # pc增加size单位\n",
    "\n",
    "    def pop(self):\n",
    "        if len(self.stack) == 0:\n",
    "            raise Exception('Stack underflow')\n",
    "        return self.stack.pop() # 弹出堆栈\n",
    "\n",
    "    def run(self):\n",
    "        while self.pc < len(self.code):\n",
    "            op = self.next_instruction()\n",
    "\n",
    "            if PUSH1 <= op <= PUSH32: # 如果为PUSH1-PUSH32\n",
    "                size = op - PUSH1 + 1\n",
    "                self.push(size)\n",
    "            elif op == PUSH0: # 如果为PUSH0\n",
    "                self.stack.append(0)\n",
    "            elif op == POP: # 如果为POP\n",
    "                self.pop()\n"
   ]
  },
  {
   "cell_type": "code",
   "execution_count": 72,
   "id": "3f377c2d",
   "metadata": {},
   "outputs": [
    {
     "name": "stdout",
     "output_type": "stream",
     "text": [
      "[1, 1]\n"
     ]
    }
   ],
   "source": [
    "# PUSH1\n",
    "code = b\"\\x60\\x01\\x60\\x01\"\n",
    "evm = EVM(code)\n",
    "evm.run()\n",
    "print(evm.stack)\n",
    "# output: [1, 1]"
   ]
  },
  {
   "cell_type": "code",
   "execution_count": 73,
   "id": "7a70f0ea",
   "metadata": {},
   "outputs": [
    {
     "data": {
      "text/plain": [
       "[1]"
      ]
     },
     "execution_count": 73,
     "metadata": {},
     "output_type": "execute_result"
    }
   ],
   "source": [
    "# PUSH and POP\n",
    "code = b\"\\x60\\x01\\x60\\x01\\x50\"\n",
    "evm = EVM(code)\n",
    "evm.run()\n",
    "evm.stack\n",
    "# output: [1]"
   ]
  }
 ],
 "metadata": {
  "kernelspec": {
   "display_name": "Python 3 (ipykernel)",
   "language": "python",
   "name": "python3"
  },
  "language_info": {
   "codemirror_mode": {
    "name": "ipython",
    "version": 3
   },
   "file_extension": ".py",
   "mimetype": "text/x-python",
   "name": "python",
   "nbconvert_exporter": "python",
   "pygments_lexer": "ipython3",
   "version": "3.7.7"
  }
 },
 "nbformat": 4,
 "nbformat_minor": 5
}
